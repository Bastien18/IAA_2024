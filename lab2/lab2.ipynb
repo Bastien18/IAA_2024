{
 "cells": [
  {
   "cell_type": "markdown",
   "metadata": {},
   "source": [
    "# LAB2 Artificial Intelligence for Autonomous Systems"
   ]
  },
  {
   "cell_type": "markdown",
   "metadata": {},
   "source": [
    "First step is to convert input image to grayscale"
   ]
  },
  {
   "cell_type": "code",
   "execution_count": 2,
   "metadata": {},
   "outputs": [
    {
     "name": "stdout",
     "output_type": "stream",
     "text": [
      "Collecting Pillow\n",
      "  Downloading pillow-10.2.0-cp39-cp39-win_amd64.whl (2.6 MB)\n",
      "Installing collected packages: Pillow\n",
      "Successfully installed Pillow-10.2.0\n"
     ]
    }
   ],
   "source": [
    "# If note install, install pillow library\n",
    "!pip install Pillow"
   ]
  },
  {
   "cell_type": "code",
   "execution_count": 3,
   "metadata": {},
   "outputs": [
    {
     "name": "stdout",
     "output_type": "stream",
     "text": [
      "Converted photo_10_2024-03-09_21-49-25.jpg to grayscale and saved as ./dataset/grayscale_input\\photo_10_2024-03-09_21-49-25.jpg\n",
      "Converted photo_11_2024-03-09_21-49-25.jpg to grayscale and saved as ./dataset/grayscale_input\\photo_11_2024-03-09_21-49-25.jpg\n",
      "Converted photo_12_2024-03-09_21-49-25.jpg to grayscale and saved as ./dataset/grayscale_input\\photo_12_2024-03-09_21-49-25.jpg\n",
      "Converted photo_13_2024-03-09_21-49-25.jpg to grayscale and saved as ./dataset/grayscale_input\\photo_13_2024-03-09_21-49-25.jpg\n",
      "Converted photo_14_2024-03-09_21-49-25.jpg to grayscale and saved as ./dataset/grayscale_input\\photo_14_2024-03-09_21-49-25.jpg\n",
      "Converted photo_15_2024-03-09_21-49-25.jpg to grayscale and saved as ./dataset/grayscale_input\\photo_15_2024-03-09_21-49-25.jpg\n",
      "Converted photo_16_2024-03-09_21-49-25.jpg to grayscale and saved as ./dataset/grayscale_input\\photo_16_2024-03-09_21-49-25.jpg\n",
      "Converted photo_17_2024-03-09_21-49-25.jpg to grayscale and saved as ./dataset/grayscale_input\\photo_17_2024-03-09_21-49-25.jpg\n",
      "Converted photo_18_2024-03-09_21-49-25.jpg to grayscale and saved as ./dataset/grayscale_input\\photo_18_2024-03-09_21-49-25.jpg\n",
      "Converted photo_19_2024-03-09_21-49-25.jpg to grayscale and saved as ./dataset/grayscale_input\\photo_19_2024-03-09_21-49-25.jpg\n",
      "Converted photo_1_2024-03-09_21-49-25.jpg to grayscale and saved as ./dataset/grayscale_input\\photo_1_2024-03-09_21-49-25.jpg\n",
      "Converted photo_20_2024-03-09_21-49-25.jpg to grayscale and saved as ./dataset/grayscale_input\\photo_20_2024-03-09_21-49-25.jpg\n",
      "Converted photo_21_2024-03-09_21-49-25.jpg to grayscale and saved as ./dataset/grayscale_input\\photo_21_2024-03-09_21-49-25.jpg\n",
      "Converted photo_22_2024-03-09_21-49-25.jpg to grayscale and saved as ./dataset/grayscale_input\\photo_22_2024-03-09_21-49-25.jpg\n",
      "Converted photo_23_2024-03-09_21-49-25.jpg to grayscale and saved as ./dataset/grayscale_input\\photo_23_2024-03-09_21-49-25.jpg\n",
      "Converted photo_2_2024-03-09_21-49-25.jpg to grayscale and saved as ./dataset/grayscale_input\\photo_2_2024-03-09_21-49-25.jpg\n",
      "Converted photo_3_2024-03-09_21-49-25.jpg to grayscale and saved as ./dataset/grayscale_input\\photo_3_2024-03-09_21-49-25.jpg\n",
      "Converted photo_4_2024-03-09_21-49-25.jpg to grayscale and saved as ./dataset/grayscale_input\\photo_4_2024-03-09_21-49-25.jpg\n",
      "Converted photo_5_2024-03-09_21-49-25.jpg to grayscale and saved as ./dataset/grayscale_input\\photo_5_2024-03-09_21-49-25.jpg\n",
      "Converted photo_6_2024-03-09_21-49-25.jpg to grayscale and saved as ./dataset/grayscale_input\\photo_6_2024-03-09_21-49-25.jpg\n",
      "Converted photo_7_2024-03-09_21-49-25.jpg to grayscale and saved as ./dataset/grayscale_input\\photo_7_2024-03-09_21-49-25.jpg\n",
      "Converted photo_8_2024-03-09_21-49-25.jpg to grayscale and saved as ./dataset/grayscale_input\\photo_8_2024-03-09_21-49-25.jpg\n",
      "Converted photo_9_2024-03-09_21-49-25.jpg to grayscale and saved as ./dataset/grayscale_input\\photo_9_2024-03-09_21-49-25.jpg\n"
     ]
    }
   ],
   "source": [
    "from PIL import Image\n",
    "import os\n",
    "\n",
    "def convert_to_grayscale(input_dir, output_dir):\n",
    "    if not os.path.exists(output_dir):\n",
    "        os.makedirs(output_dir)\n",
    "\n",
    "    for filename in os.listdir(input_dir):\n",
    "        input_path = os.path.join(input_dir, filename)\n",
    "\n",
    "        if os.path.isfile(input_path) and filename.lower().endswith(('.png', '.jpg', '.jpeg', '.gif')):\n",
    "            with Image.open(input_path) as img:\n",
    "                grayscale_img =  img.convert('L')\n",
    "\n",
    "                output_path = os.path.join(output_dir, filename)\n",
    "\n",
    "                grayscale_img.save(output_path)\n",
    "                print(f\"Converted {filename} to grayscale and saved as {output_path}\")\n",
    "\n",
    "input_directory = \"./dataset/base_input\"\n",
    "output_directory = \"./dataset/grayscale_input\"\n",
    "\n",
    "convert_to_grayscale(input_directory, output_directory)\n"
   ]
  },
  {
   "cell_type": "markdown",
   "metadata": {},
   "source": [
    "Now I'll apply 4 random rotation to each images. This step can be ignored if it doesn't contribute to improve the accuracy of our model"
   ]
  },
  {
   "cell_type": "code",
   "execution_count": 4,
   "metadata": {},
   "outputs": [
    {
     "ename": "NameError",
     "evalue": "name 'random' is not defined",
     "output_type": "error",
     "traceback": [
      "\u001b[1;31m---------------------------------------------------------------------------\u001b[0m",
      "\u001b[1;31mNameError\u001b[0m                                 Traceback (most recent call last)",
      "Cell \u001b[1;32mIn[4], line 23\u001b[0m\n\u001b[0;32m     20\u001b[0m input_directory \u001b[38;5;241m=\u001b[39m \u001b[38;5;124m\"\u001b[39m\u001b[38;5;124m./dataset/grayscale_input\u001b[39m\u001b[38;5;124m\"\u001b[39m\n\u001b[0;32m     21\u001b[0m output_directory \u001b[38;5;241m=\u001b[39m \u001b[38;5;124m\"\u001b[39m\u001b[38;5;124m./dataset/extended_set\u001b[39m\u001b[38;5;124m\"\u001b[39m\n\u001b[1;32m---> 23\u001b[0m \u001b[43mrotate_images\u001b[49m\u001b[43m(\u001b[49m\u001b[43minput_directory\u001b[49m\u001b[43m,\u001b[49m\u001b[43m \u001b[49m\u001b[43moutput_directory\u001b[49m\u001b[43m)\u001b[49m\n",
      "Cell \u001b[1;32mIn[4], line 11\u001b[0m, in \u001b[0;36mrotate_images\u001b[1;34m(input_dir, output_dir)\u001b[0m\n\u001b[0;32m      9\u001b[0m \u001b[38;5;28;01mwith\u001b[39;00m Image\u001b[38;5;241m.\u001b[39mopen(input_path) \u001b[38;5;28;01mas\u001b[39;00m img:\n\u001b[0;32m     10\u001b[0m     \u001b[38;5;28;01mfor\u001b[39;00m i \u001b[38;5;129;01min\u001b[39;00m \u001b[38;5;28mrange\u001b[39m(\u001b[38;5;241m4\u001b[39m):\n\u001b[1;32m---> 11\u001b[0m         angle \u001b[38;5;241m=\u001b[39m \u001b[43mrandom\u001b[49m\u001b[38;5;241m.\u001b[39mrandint(\u001b[38;5;241m0\u001b[39m, \u001b[38;5;241m360\u001b[39m)\n\u001b[0;32m     13\u001b[0m         rotated_img \u001b[38;5;241m=\u001b[39m img\u001b[38;5;241m.\u001b[39mrotate(angle)\n\u001b[0;32m     15\u001b[0m         output_path \u001b[38;5;241m=\u001b[39m os\u001b[38;5;241m.\u001b[39mpath\u001b[38;5;241m.\u001b[39mjoin(output_dir, \u001b[38;5;124mf\u001b[39m\u001b[38;5;124m\"\u001b[39m\u001b[38;5;132;01m{\u001b[39;00mos\u001b[38;5;241m.\u001b[39mpath\u001b[38;5;241m.\u001b[39msplitext(filename)[\u001b[38;5;241m0\u001b[39m]\u001b[38;5;132;01m}\u001b[39;00m\u001b[38;5;124m_\u001b[39m\u001b[38;5;132;01m{\u001b[39;00mangle\u001b[38;5;132;01m}\u001b[39;00m\u001b[38;5;124mdeg.jpg\u001b[39m\u001b[38;5;124m\"\u001b[39m)\n",
      "\u001b[1;31mNameError\u001b[0m: name 'random' is not defined"
     ]
    }
   ],
   "source": [
    "import random\n",
    "\n",
    "def rotate_images(input_dir, output_dir):\n",
    "    if not os.path.exists(output_dir):\n",
    "        os.makedirs(output_dir)\n",
    "\n",
    "    for filename in os.listdir(input_dir):\n",
    "        input_path = os.path.join(input_dir, filename)\n",
    "\n",
    "        if os.path.isfile(input_path) and filename.lower().endswith(('.png', '.jpg', '.jpeg', '.gif')):\n",
    "            with Image.open(input_path) as img:\n",
    "                for i in range(4):\n",
    "                    angle = random.randint(0, 360)\n",
    "                    \n",
    "                    rotated_img = img.rotate(angle)\n",
    "                    \n",
    "                    output_path = os.path.join(output_dir, f\"{os.path.splitext(filename)[0]}_{angle}deg.jpg\")\n",
    "                    \n",
    "                    rotated_img.save(output_path)\n",
    "                    print(f\"Applied {angle} degree rotation to {filename} and saved as {output_path}\")\n",
    "\n",
    "input_directory = \"./dataset/grayscale_input\"\n",
    "output_directory = \"./dataset/extended_set\"\n",
    "\n",
    "rotate_images(input_directory, output_directory)"
   ]
  }
 ],
 "metadata": {
  "kernelspec": {
   "display_name": "base",
   "language": "python",
   "name": "python3"
  },
  "language_info": {
   "codemirror_mode": {
    "name": "ipython",
    "version": 3
   },
   "file_extension": ".py",
   "mimetype": "text/x-python",
   "name": "python",
   "nbconvert_exporter": "python",
   "pygments_lexer": "ipython3",
   "version": "3.9.12"
  }
 },
 "nbformat": 4,
 "nbformat_minor": 2
}
